{
 "cells": [
  {
   "cell_type": "markdown",
   "metadata": {},
   "source": [
    "# Lab | Error Handling"
   ]
  },
  {
   "cell_type": "markdown",
   "metadata": {},
   "source": [
    "## Exercise: Error Handling for Managing Customer Orders\n",
    "\n",
    "The implementation of your code for managing customer orders assumes that the user will always enter a valid input. \n",
    "\n",
    "For example, we could modify the `initialize_inventory` function to include error handling.\n",
    "   - If the user enters an invalid quantity (e.g., a negative value or a non-numeric value), display an error message and ask them to re-enter the quantity for that product.\n",
    "   - Use a try-except block to handle the error and continue prompting the user until a valid quantity is entered.\n",
    "\n",
    "```python\n",
    "# Step 1: Define the function for initializing the inventory with error handling\n",
    "def initialize_inventory(products):\n",
    "    inventory = {}\n",
    "    for product in products:\n",
    "        valid_quantity = False\n",
    "        while not valid_quantity:\n",
    "            try:\n",
    "                quantity = int(input(f\"Enter the quantity of {product}s available: \"))\n",
    "                if quantity < 0:\n",
    "                    raise ValueError(\"Invalid quantity! Please enter a non-negative value.\")\n",
    "                valid_quantity = True\n",
    "            except ValueError as error:\n",
    "                print(f\"Error: {error}\")\n",
    "        inventory[product] = quantity\n",
    "    return inventory\n",
    "\n",
    "# Or, in another way:\n",
    "\n",
    "def initialize_inventory(products):\n",
    "    inventory = {}\n",
    "    for product in products:\n",
    "        valid_input = False\n",
    "        while not valid_input:\n",
    "            try:\n",
    "                quantity = int(input(f\"Enter the quantity of {product}s available: \"))\n",
    "                if quantity >= 0:\n",
    "                    inventory[product] = quantity\n",
    "                    valid_input = True\n",
    "                else:\n",
    "                    print(\"Quantity cannot be negative. Please enter a valid quantity.\")\n",
    "            except ValueError:\n",
    "                print(\"Invalid input. Please enter a valid quantity.\")\n",
    "    return inventory\n",
    "```\n",
    "\n",
    "Let's enhance your code by implementing error handling to handle invalid inputs.\n",
    "\n",
    "Follow the steps below to complete the exercise:\n",
    "\n",
    "2. Modify the `calculate_total_price` function to include error handling.\n",
    "   - If the user enters an invalid price (e.g., a negative value or a non-numeric value), display an error message and ask them to re-enter the price for that product.\n",
    "   - Use a try-except block to handle the error and continue prompting the user until a valid price is entered.\n",
    "\n",
    "3. Modify the `get_customer_orders` function to include error handling.\n",
    "   - If the user enters an invalid number of orders (e.g., a negative value or a non-numeric value), display an error message and ask them to re-enter the number of orders.\n",
    "   - If the user enters an invalid product name (e.g., a product name that is not in the inventory), or that doesn't have stock available, display an error message and ask them to re-enter the product name. *Hint: you will need to pass inventory as a parameter*\n",
    "   - Use a try-except block to handle the error and continue prompting the user until a valid product name is entered.\n",
    "\n",
    "4. Test your code by running the program and deliberately entering invalid quantities and product names. Make sure the error handling mechanism works as expected.\n"
   ]
  },
  {
   "cell_type": "raw",
   "metadata": {},
   "source": [
    "# Add a new function to calculate the total price of the customer order. \n",
    "For each product in customer_orders, prompt the user to enter the price of that product. \n",
    "Note: assume that the user can only have 1 unit of each product.Modify the calculate_total_price function to include error handling.\n",
    "\n",
    "If the user enters an invalid price (e.g., a negative value or a non-numeric value), display an error message and ask them to re-enter the price for that product.\n",
    "Use a try-except block to handle the error and continue prompting the user until a valid price is entered.\n",
    "\n",
    "    "
   ]
  },
  {
   "cell_type": "code",
   "execution_count": 1,
   "metadata": {},
   "outputs": [
    {
     "name": "stdout",
     "output_type": "stream",
     "text": [
      "Enter the price for Apples: 12\n",
      "Enter the price for Bananas: 13\n",
      "Enter the price for Oranges: 14\n",
      "Total order price: $77.00\n"
     ]
    }
   ],
   "source": [
    "def calculate_total_price(customer_orders):\n",
    "    \n",
    "    total_price = 0.0\n",
    "\n",
    "    for product, quantity in customer_orders.items():\n",
    "        while True:\n",
    "            try:\n",
    "                price = float(input(f\"Enter the price for {product}: \"))\n",
    "                if price < 0:\n",
    "                    print(\"Invalid price! Please enter a positive value.\")\n",
    "                else:\n",
    "                    total_price += price * quantity\n",
    "                    break\n",
    "            except ValueError:\n",
    "                print(\"Invalid input! Please enter a numeric value.\")\n",
    "\n",
    "    return total_price\n",
    "\n",
    "\n",
    "customer_orders = {\n",
    "    \"Apples\": 2,\n",
    "    \"Bananas\": 3,\n",
    "    \"Oranges\": 1\n",
    "}\n",
    "\n",
    "total_order_price = calculate_total_price(customer_orders)\n",
    "print(f\"Total order price: ${total_order_price:.2f}\")\n"
   ]
  },
  {
   "cell_type": "markdown",
   "metadata": {},
   "source": [
    "Modify the get_customer_orders function to include error handling.\n",
    "\n",
    "If the user enters an invalid number of orders (e.g., a negative value or a non-numeric value), display an error message and ask them to re-enter the number of orders.\n",
    "If the user enters an invalid product name (e.g., a product name that is not in the inventory), or that doesn't have stock available, display an error message and ask them to re-enter the product name. Hint: you will need to pass inventory as a parameter\n",
    "Use a try-except block to handle the error and continue prompting the user until a valid product name is entered."
   ]
  },
  {
   "cell_type": "code",
   "execution_count": null,
   "metadata": {},
   "outputs": [],
   "source": [
    "def get_customer_orders(inventory):\n",
    "    customer_orders = set()\n",
    "\n",
    "    try:\n",
    "        num_orders = int(input(\"Enter the number of orders: \"))\n",
    "        if num_orders <= 0:\n",
    "            print(\"Invalid number of orders! Please enter a positive integer.\")\n",
    "            return customer_orders\n",
    "\n",
    "        order_count = 0\n",
    "        while order_count < num_orders:\n",
    "            product_order = input(\"Enter a product name (or 'done' to finish): \")\n",
    "            if product_order.lower() == 'done':\n",
    "                break\n",
    "            elif product_order not in inventory:\n",
    "                print(\"Invalid product name! Please enter a valid product name.\")\n",
    "            else:\n",
    "                customer_orders.add(product_order)\n",
    "                order_count += 1\n",
    "\n",
    "    except ValueError:\n",
    "        print(\"Invalid input! Please enter a positive integer for the number of orders.\")\n",
    "\n",
    "    return customer_orders\n",
    "\n",
    "# Example usage:\n",
    "inventory = {\"apple\", \"banana\", \"orange\"}\n",
    "customer_orders_set = get_customer_orders(inventory)\n",
    "print(\"Customer orders:\", customer_orders_set)\n"
   ]
  },
  {
   "cell_type": "code",
   "execution_count": null,
   "metadata": {},
   "outputs": [],
   "source": []
  }
 ],
 "metadata": {
  "kernelspec": {
   "display_name": "Python 3",
   "language": "python",
   "name": "python3"
  },
  "language_info": {
   "codemirror_mode": {
    "name": "ipython",
    "version": 3
   },
   "file_extension": ".py",
   "mimetype": "text/x-python",
   "name": "python",
   "nbconvert_exporter": "python",
   "pygments_lexer": "ipython3",
   "version": "3.8.5"
  }
 },
 "nbformat": 4,
 "nbformat_minor": 5
}
